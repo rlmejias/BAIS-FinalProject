# Imports
import pandas as pd
import numpy as np
import matplotlib.pyplot as plt
import seaborn as sns

# Load Data
# df = pd.read_csv('../data/your_dataset.csv')

# Quick Look
# df.head()

# EDA Template
# df.describe()
# sns.pairplot(df)
